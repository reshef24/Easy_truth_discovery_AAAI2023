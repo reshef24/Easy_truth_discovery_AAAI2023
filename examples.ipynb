{
 "cells": [
  {
   "cell_type": "markdown",
   "metadata": {},
   "source": [
    "# Running Examples of Truth Discovery Methods"
   ]
  },
  {
   "cell_type": "markdown",
   "metadata": {},
   "source": [
    "This notebook is centered around Truth Discovery Methods as explored in the paper \"Frustratingly Easy Truth Discovery\" by Meir et al. \n",
    "It provides practical examples of how to run various algorithms that were analyzed in the paper. \n",
    "Throughout, Python code is employed both for illustrative examples and for conducting a comparative analysis."
   ]
  },
  {
   "cell_type": "code",
   "execution_count": 117,
   "metadata": {},
   "outputs": [
    {
     "name": "stdout",
     "output_type": "stream",
     "text": [
      "The autoreload extension is already loaded. To reload it, use:\n",
      "  %reload_ext autoreload\n"
     ]
    }
   ],
   "source": [
    "# for automatic reloading of modules\n",
    "%load_ext autoreload\n",
    "%autoreload 2"
   ]
  },
  {
   "cell_type": "markdown",
   "metadata": {},
   "source": [
    "## Datasets\n",
    "\n",
    "All datasets used in this notebook are stored in the `data` folder. We categorize the datasets into two types: synthetic and real-life datasets.\n",
    "\n",
    "### Synthetic Datasets\n",
    "\n",
    "Synthetic datasets are generated using the script `data/create_synthetic_data.py`. These datasets are designed to simulate various scenarios and are characterized by the following parameters:\n",
    "\n",
    "- **Data Types:**\n",
    "  - Categorical: Denoted as `CAT2`, `CAT4`, etc., representing the number of categories.\n",
    "  - Continuous: Numeric data with continuous values.\n",
    "  - Rankings: Data following the Mallows distribution with parameter φ.\n",
    "\n",
    "- **Number of Questions (`k`):** The total number of questions.\n",
    "\n",
    "- **Number of Workers (`n`):** The total number of workers providing answers.\n",
    "\n",
    "- **Fault Distribution:** The distribution of faults in the data, sampled from:\n",
    "  - Truncated Normal Distribution (`N`): Denoted as `N(mean, std)`.\n",
    "  - Uniform Distribution (`U`): Denoted as `U(mean, std)`.\n",
    "  - Hammer-Spammer Distribution (`T`): Denoted as `T(0.2, 0.2, 0.5)`, representing 20% hammers (reliable sources) with fault levels 0.2 an 80% of spammers with fault levels of 0.5.\n",
    "\n",
    "### Real-Life Datasets\n",
    "\n",
    "Real-life datasets are based on actual experiments and surveys:\n",
    "- **Dots:** \n",
    "\n",
    "- **Buildings:** Participants were asked to estimate the height of buildings in pictures using a slider. The dataset contains responses to 25 questions from participants recruited through Amazon Mechanical Turk. Participants received a payment of $0.3 for correct answers to a gold standard question, with no bonuses for accuracy. The study protocol was approved by the Institutional Review Board at our institution.\n",
    "\n",
    "- **Other datasets:**  The paper \"Frustratingly Easy Truth Discovery\" also references additional datasets created by other researchers (see paper appendix). However, these datasets are not included in this notebook. They may be available through the original publications or upon request from the authors.\n",
    "\n",
    "To ensure consistency and ease of use, all datasets are stored in CSV format.\n"
   ]
  },
  {
   "cell_type": "markdown",
   "metadata": {},
   "source": [
    "### Imports"
   ]
  },
  {
   "cell_type": "code",
   "execution_count": 118,
   "metadata": {},
   "outputs": [],
   "source": [
    "import pandas as pd\n",
    "import numpy as np\n",
    "\n",
    "from algorithms import PairwiseDistanceFunctions, ProxyDistanceFunctions\n",
    "from algorithms import TruthDiscoveryAlgorithms\n",
    "from utils import VotingRules\n"
   ]
  },
  {
   "cell_type": "markdown",
   "metadata": {},
   "source": [
    "## IPTD Method\n",
    "\n",
    "\n",
    "Iterative Proximity-based Truth Discovery. Following [Meir, Amir, Ben-Porat, Ben-Shabat, Cohensius, Xia, AAAI 2023]\n",
    "\n",
    "The method offers several variants, each tailored to specific data types:\n",
    "\n",
    "- **Pairwise Proximity (PP):** \n",
    "  - Competence measure: `competence_j = avg(p(i, j))`\n",
    "  - Weight assignment: `weight_j = competence_j`\n",
    "  \n",
    "- **Pairwise Distance (PD):** \n",
    "  - Fault measure: `fault_j = avg(d(i, j))`\n",
    "  - Weight assignment: `weight_j = max(fault) - fault_j`\n",
    "\n",
    "- **AWG:**  requires continuous data.\n",
    "\n",
    "- **IER:** requires categorical data.\n",
    "\n",
    "- **IER_BIN:** requires binary or ranking data.\n",
    "\n",
    "- **IER_SP:** requires binary data.\n",
    "\n",
    "### Input\n",
    "\n",
    "The IPTD method accepts any distance-based data as input. It leverages the distances between data points to compute weights and aggregate the data to find the most likely truth.\n",
    "\n",
    "For a detailed explanation of the parameters and variants used in this method, please refer to the `algorithms/PTD.py` file.\n"
   ]
  },
  {
   "cell_type": "markdown",
   "metadata": {},
   "source": [
    "### Categorical Data Example\n",
    "\n",
    "In this example, we demonstrate the IPTD method using a synthetic categorical dataset. The dataset is generated with a proto population distribution that follows a Normal distribution with a mean of 0.65 and a standard deviation of 0.15. The data consists of answers from 2,000 workers to 2,000 questions, each with 2 categories (CAT2).\n",
    "\n",
    "We use the following settings for the IPTD algorithm:\n",
    "- **Voting Rule:** Random dictator\n",
    "- **Pairwise Distance Function:** Hamming binary\n",
    "- **Variant:** IER, suitable for categorical data\n",
    "- **Lambda:** Set to 4 is equivalent to the PD variant\n",
    "\n",
    "The IPTD algorithm aggregates the dataset to produce a set of answers. We then measure the accuracy of these answers by comparing them to the ground truth using the Hamming binary distance function. The resulting error is printed to assess the performance of the IPTD method on this synthetic dataset.\n"
   ]
  },
  {
   "cell_type": "code",
   "execution_count": 119,
   "metadata": {},
   "outputs": [
    {
     "name": "stdout",
     "output_type": "stream",
     "text": [
      "    MAJ answers  IPTD answers  true answers\n",
      "0           0.0           1.0             0\n",
      "1           0.0           0.0             0\n",
      "2           0.0           0.0             0\n",
      "3           0.0           1.0             0\n",
      "4           1.0           1.0             0\n",
      "5           1.0           0.0             0\n",
      "6           0.0           0.0             0\n",
      "7           0.0           0.0             0\n",
      "8           0.0           0.0             0\n",
      "9           0.0           0.0             0\n",
      "10          0.0           0.0             0\n",
      "11          0.0           0.0             0\n",
      "12          0.0           0.0             0\n",
      "13          0.0           0.0             0\n",
      "14          0.0           0.0             0\n",
      "15          1.0           0.0             0\n",
      "16          0.0           0.0             0\n",
      "17          0.0           0.0             0\n",
      "18          0.0           0.0             0\n",
      "19          0.0           0.0             0\n",
      "0.15\n"
     ]
    }
   ],
   "source": [
    "# Reading synthetic dataset which its proto population distribution is Normal with mean .65 and 0.15 STD\n",
    "n = 9\n",
    "k = 20\n",
    "dataset = pd.read_csv(\"data/synthetic/CAT2_k2000_n2000_N(0.65,0.15).csv\", header=None).iloc[:n, :k]\n",
    "\n",
    "#print(dataset)\n",
    "# Reading the appropriate ground truth dataset\n",
    "dataset_gt = pd.read_csv(\"data/synthetic/CAT2_k2000_n2000_N(0.65,0.15)_GT.csv\", header=None).iloc[:,:k].to_numpy()[0]\n",
    "\n",
    "#print(dataset_gt)\n",
    "# Calling IPTD for aggregating the dataset\n",
    "algorithm = TruthDiscoveryAlgorithms.get_algorithm(\"IPTD\")\n",
    "simple_majority = TruthDiscoveryAlgorithms.get_algorithm(\"UA\")\n",
    "pairwise_distance = PairwiseDistanceFunctions.get_function(\"hamming_binary\")\n",
    "\n",
    "# Lambda = 0 - max likelihood estimator\n",
    "#  or 4 - simple variant\n",
    "IPTD_answers = algorithm(iterations=10,     # the algorithm will run for up to 10 iterations (or until convergence)\n",
    "                    data=dataset,\n",
    "                    gt=dataset_gt,\n",
    "                    voting_rule=None,\n",
    "                    iter_weight_method= \"1\",\n",
    "                    variant= \"IER\",\n",
    "                    mode=\"categorical\",\n",
    "                    pairwise_distance_function = pairwise_distance,\n",
    "                    Lambda = 4,\n",
    "                    )\n",
    "\n",
    "MAJ_answers = simple_majority(\n",
    "                    data=dataset,\n",
    "                    gt=dataset_gt,\n",
    "                    voting_rule=None,\n",
    "                    mode=\"categorical\",\n",
    "                    params = None\n",
    "                    )\n",
    "\n",
    "\n",
    "# Calling the relevant distance function to measure the distance from the ground truth\n",
    "distance_function = ProxyDistanceFunctions.get_function(\"hamming_binary\")\n",
    "error = distance_function(IPTD_answers, dataset_gt)\n",
    "answer_df = pd.DataFrame({\"MAJ answers\":MAJ_answers,\"IPTD answers\":IPTD_answers,\"true answers\":dataset_gt})\n",
    "print(answer_df)\n",
    "print(error)\n"
   ]
  },
  {
   "cell_type": "markdown",
   "metadata": {},
   "source": [
    "### Ranking data\n",
    "\n",
    "- Dots data\n",
    "- proxy distance function: kendall_tau_distance\n",
    "- voting rule: vr_plurality"
   ]
  },
  {
   "cell_type": "code",
   "execution_count": 120,
   "metadata": {},
   "outputs": [
    {
     "name": "stdout",
     "output_type": "stream",
     "text": [
      "0.3333333333333333\n"
     ]
    }
   ],
   "source": [
    "import pandas as pd\n",
    "import numpy as np\n",
    "\n",
    "from algorithms import PairwiseDistanceFunctions, ProxyDistanceFunctions\n",
    "from algorithms import TruthDiscoveryAlgorithms\n",
    "from utils import VotingRules\n",
    "\n",
    "\n",
    "# Reading synthetic dataset which its proto population distribution is Normal with mean .65 and 0.15 STD\n",
    "dataset = pd.read_csv(\"data/non_synthetic/Rankings/Dots and Puzzles/Dots-3.csv\", header=None).iloc[:20, :20]\n",
    "\n",
    "# Reading the appropriate ground truth dataset\n",
    "dataset_gt = pd.read_csv(\"data/non_synthetic/Rankings/Dots and Puzzles/plain_4_GT.csv\", header=None).iloc[:, :20]\n",
    "\n",
    "# Calling IPTD for aggregating the dataset\n",
    "algorithm = TruthDiscoveryAlgorithms.get_algorithm(\"IPTD\")\n",
    "voting_rule = \"vr_plurality\"\n",
    "pairwise_distance = PairwiseDistanceFunctions.get_function(\"kendall_tau_distance\")\n",
    "\n",
    "# Lambda = 0 - max likelihood estimator\n",
    "#  or 4 - simple variants\n",
    "answers = algorithm(iterations=1,\n",
    "                    data=dataset,\n",
    "                    gt=dataset_gt,\n",
    "                    voting_rule=voting_rule,\n",
    "                    variant= \"PD\",\n",
    "                    mode=\"rankings\",\n",
    "                    pairwise_distance_function = pairwise_distance,\n",
    "                    iter_weight_method= \"1\"\n",
    "                    )\n",
    "\n",
    "# Calling the relevant distance function to measure the distance from the ground truth\n",
    "distance_function = ProxyDistanceFunctions.get_function(\"kendall_tau_distance\")\n",
    "error = distance_function(answers, dataset_gt)\n",
    "print(error)"
   ]
  },
  {
   "cell_type": "markdown",
   "metadata": {},
   "source": [
    "### Continuous data\n",
    "\n",
    "- Synthetic continuous data\n",
    "- proxy distance function: square euclidian\n",
    "- voting rule: mean"
   ]
  },
  {
   "cell_type": "code",
   "execution_count": 121,
   "metadata": {},
   "outputs": [
    {
     "name": "stdout",
     "output_type": "stream",
     "text": [
      "0.05149649431104564\n"
     ]
    }
   ],
   "source": [
    "# Reading synthetic dataset which its proto population distribution is Normal with mean .65 and 0.15 STD\n",
    "dataset = pd.read_csv(\"data/synthetic/cont/CONT_m2000_n2000_GT=N(0,2)_F=N(1,0.5).csv\", header=None).iloc[:20, :20]\n",
    "\n",
    "# Reading the appropriate ground truth dataset\n",
    "dataset_gt = pd.read_csv(\"data/synthetic/cont/CONT_m2000_n2000_GT=N(0,2)_F=N(1,0.5)_GT.csv\", header=None).iloc[:, :20]\n",
    "dataset_gt = np.squeeze(dataset_gt)\n",
    "# Calling IPTD for aggregating the dataset\n",
    "algorithm = TruthDiscoveryAlgorithms.get_algorithm(\"IPTD\")\n",
    "pairwise_distance = PairwiseDistanceFunctions.get_function(\"square_euclidean\")\n",
    "\n",
    "\n",
    "answers = algorithm(iterations=10,\n",
    "                    data=dataset,\n",
    "                    gt=dataset_gt,\n",
    "                    voting_rule=\"mean\",\n",
    "                    iter_weight_method= \"1\",\n",
    "                    variant= \"PD\",\n",
    "                    mode=\"continuous\",\n",
    "                    pairwise_distance_function = pairwise_distance,\n",
    "                    )\n",
    "\n",
    "# Calling the relevant distance function to measure the distance from the ground truth\n",
    "distance_function = ProxyDistanceFunctions.get_function(\"square_euclidean\")\n",
    "error = distance_function(answers, dataset_gt)\n",
    "print(error)"
   ]
  },
  {
   "cell_type": "markdown",
   "metadata": {},
   "source": [
    "## BPTD\n",
    "Belief Propagation Truth Discovery. Following [Karger, Oh and Shah, NeurIPS 2011].\n",
    "\n",
    "INPUT: binary data <br>\n",
    "Note that use_random_init parameter defines whether to use random initialization of the betas or initialize them to 1 (see the algorithms/BPTD.py file)."
   ]
  },
  {
   "cell_type": "code",
   "execution_count": 122,
   "metadata": {},
   "outputs": [
    {
     "name": "stdout",
     "output_type": "stream",
     "text": [
      "0.05\n"
     ]
    }
   ],
   "source": [
    "# Reading synthetic dataset which its proto population distribution is Normal with mean .65 and 0.15 STD\n",
    "dataset = pd.read_csv(\"data/synthetic/CAT2_k2000_n2000_N(0.65,0.15).csv\", header=None).iloc[:20, :20]\n",
    "\n",
    "# Reading the appropriate ground truth dataset\n",
    "dataset_gt = pd.read_csv(\"data/synthetic/CAT2_k2000_n2000_N(0.65,0.15)_GT.csv\", header=None).iloc[:, :20]\n",
    "\n",
    "# Calling IPTD for aggregating the dataset\n",
    "algorithm = TruthDiscoveryAlgorithms.get_algorithm(\"BPTD\")\n",
    "\n",
    "# Lambda = 0 - max likelihood estimator\n",
    "#  or 4 - simple variants\n",
    "answers = algorithm(iterations=10,\n",
    "                    data=dataset,\n",
    "                    use_random_init=False\n",
    "                    )\n",
    "\n",
    "# Calling the relevant distance function to measure the distance from the ground truth\n",
    "distance_function = ProxyDistanceFunctions.get_function(\"hamming_binary\")\n",
    "error = distance_function(answers, dataset_gt)\n",
    "print(error)\n"
   ]
  },
  {
   "cell_type": "markdown",
   "metadata": {},
   "source": [
    "## CATD\n",
    "\n",
    "Based on the pseudo-code in: Qi Li1 et. al., \"A Confidence-Aware Approach for Truth Discovery on Long-Tail Data\"<br>\n",
    "Link: https://cse.buffalo.edu/~jing/doc/vldb15_CATD.pdf\n",
    "\n",
    "INPUT: Continuous data <br>\n"
   ]
  },
  {
   "cell_type": "code",
   "execution_count": 123,
   "metadata": {},
   "outputs": [
    {
     "name": "stdout",
     "output_type": "stream",
     "text": [
      "0.005947577116845082\n"
     ]
    }
   ],
   "source": [
    "# Reading synthetic dataset which its proto population distribution is Normal with mean .65 and 0.15 STD\n",
    "dataset = pd.read_csv(\"data/synthetic/cont/CONT_m2000_n2000_GT=N(0,2)_F=N(1,0.5).csv\", header=None).iloc[:20, :20]\n",
    "\n",
    "# Reading the appropriate ground truth dataset\n",
    "dataset_gt = pd.read_csv(\"data/synthetic/cont/CONT_m2000_n2000_GT=N(0,2)_F=N(1,0.5)_GT.csv\", header=None).iloc[:, :20]\n",
    "dataset_gt = np.squeeze(dataset_gt)\n",
    "# Calling IPTD for aggregating the dataset\n",
    "algorithm = TruthDiscoveryAlgorithms.get_algorithm(\"CATD\")\n",
    "\n",
    "answers = algorithm(iterations=10,\n",
    "                    data=dataset\n",
    "                    )\n",
    "\n",
    "# Calling the relevant distance function to measure the distance from the ground truth\n",
    "distance_function = ProxyDistanceFunctions.get_function(\"square_euclidean\")\n",
    "error = distance_function(answers, dataset_gt)\n",
    "print(error)"
   ]
  },
  {
   "cell_type": "markdown",
   "metadata": {},
   "source": [
    "## CRH\n",
    "Based on the pseudo-code in: Li et. al., \"Resolving Conflicts in Heterogeneous Data by Truth\n",
    "Discovery and Source Reliability Estimation\" <br>\n",
    "Link: https://dl.acm.org/doi/pdf/10.1145/2588555.2610509\n",
    "\n",
    "INPUT: Continuous data <br>\n",
    "\n"
   ]
  },
  {
   "cell_type": "code",
   "execution_count": 124,
   "metadata": {},
   "outputs": [
    {
     "name": "stdout",
     "output_type": "stream",
     "text": [
      "0.049743545951594116\n"
     ]
    }
   ],
   "source": [
    "# Reading synthetic dataset which its proto population distribution is Normal with mean .65 and 0.15 STD\n",
    "dataset = pd.read_csv(\"data/synthetic/cont/CONT_m2000_n2000_GT=N(0,2)_F=N(1,0.5).csv\", header=None).iloc[:20, :20]\n",
    "\n",
    "# Reading the appropriate ground truth dataset\n",
    "dataset_gt = pd.read_csv(\"data/synthetic/cont/CONT_m2000_n2000_GT=N(0,2)_F=N(1,0.5)_GT.csv\", header=None).iloc[:, :20]\n",
    "dataset_gt = np.squeeze(dataset_gt)\n",
    "# Calling IPTD for aggregating the dataset\n",
    "algorithm = TruthDiscoveryAlgorithms.get_algorithm(\"CRH\")\n",
    "pairwise_distance = PairwiseDistanceFunctions.get_function(\"square_euclidean\")\n",
    "\n",
    "\n",
    "answers = algorithm(iterations=10,\n",
    "                    data=dataset,\n",
    "                    pairwise_distance_function = pairwise_distance\n",
    "                    )\n",
    "\n",
    "# Calling the relevant distance function to measure the distance from the ground truth\n",
    "distance_function = ProxyDistanceFunctions.get_function(\"square_euclidean\")\n",
    "error = distance_function(answers, dataset_gt)\n",
    "print(error)"
   ]
  },
  {
   "cell_type": "markdown",
   "metadata": {},
   "source": [
    "## DSTD\n",
    "Dawid-Skene estimator. <br>\n",
    "Implementation based on pseudocode in Gao, Chao, and Dengyong Zhou. \"Minimax optimal convergence rates for estimating\n",
    "outcome ground truth from crowdsourced labels.\" arXiv preprint arXiv:1310.5764 (2013).\n",
    "\n",
    " \n",
    "INPUT: Binary data only.<br>\n"
   ]
  },
  {
   "cell_type": "code",
   "execution_count": 125,
   "metadata": {},
   "outputs": [
    {
     "name": "stdout",
     "output_type": "stream",
     "text": [
      "0.0\n"
     ]
    }
   ],
   "source": [
    "# Reading synthetic dataset which its proto population distribution is Normal with mean .65 and 0.15 STD\n",
    "dataset = pd.read_csv(\"data/synthetic/CAT2_k2000_n2000_N(0.65,0.15).csv\", header=None).iloc[:20, :20]\n",
    "\n",
    "# Reading the appropriate ground truth dataset\n",
    "dataset_gt = pd.read_csv(\"data/synthetic/CAT2_k2000_n2000_N(0.65,0.15)_GT.csv\", header=None).iloc[:, :20]\n",
    "\n",
    "# Calling IPTD for aggregating the dataset\n",
    "algorithm = TruthDiscoveryAlgorithms.get_algorithm(\"DSTD\")\n",
    "\n",
    "# Lambda = 0 - max likelihood estimator\n",
    "#  or 4 - simple variants\n",
    "answers = algorithm(iterations=10,\n",
    "                    data=dataset\n",
    "                    )\n",
    "\n",
    "# Calling the relevant distance function to measure the distance from the ground truth\n",
    "distance_function = ProxyDistanceFunctions.get_function(\"hamming_binary\")\n",
    "error = distance_function(answers, dataset_gt)\n",
    "print(error)\n"
   ]
  },
  {
   "cell_type": "markdown",
   "metadata": {},
   "source": [
    "## EVTD\n",
    "Eigen Vector-based truth discovery. Following the [Parisi et al. PNAS'14] paper. <br>\n",
    "\n",
    "INPUT: Binary data only.<br>\n",
    "PARAMS: \n",
    "* diagonal: how to estimate the diagonal of the covariance matrix.\n",
    "* stds: how many standard deviations to use for the diagonal estimation.\n",
    "* positive: whether to clip the weights to be positive or not.\n",
    "* flip: whether to flip the leading eigenvector to be positive or not."
   ]
  },
  {
   "cell_type": "code",
   "execution_count": 126,
   "metadata": {},
   "outputs": [
    {
     "name": "stdout",
     "output_type": "stream",
     "text": [
      "0.5\n"
     ]
    },
    {
     "name": "stderr",
     "output_type": "stream",
     "text": [
      "/Users/olgasoldatenko/Technion/Thesis_general/proxy_crowdsourcing_reshef/algorithms/EVTD.py:35: SettingWithCopyWarning: \n",
      "A value is trying to be set on a copy of a slice from a DataFrame\n",
      "\n",
      "See the caveats in the documentation: https://pandas.pydata.org/pandas-docs/stable/user_guide/indexing.html#returning-a-view-versus-a-copy\n",
      "  Q_valid_indices[i][i] = 0\n"
     ]
    }
   ],
   "source": [
    "# Reading synthetic dataset which its proto population distribution is Normal with mean .65 and 0.15 STD\n",
    "dataset = pd.read_csv(\"data/synthetic/CAT2_k2000_n2000_N(0.65,0.15).csv\", header=None).iloc[:20, :20]\n",
    "\n",
    "# Reading the appropriate ground truth dataset\n",
    "dataset_gt = pd.read_csv(\"data/synthetic/CAT2_k2000_n2000_N(0.65,0.15)_GT.csv\", header=None).iloc[:, :20]\n",
    "\n",
    "# Calling IPTD for aggregating the dataset\n",
    "algorithm = TruthDiscoveryAlgorithms.get_algorithm(\"EVTD\")\n",
    "\n",
    "# Lambda = 0 - max likelihood estimator\n",
    "#  or 4 - simple variants\n",
    "answers = algorithm(data=dataset,\n",
    "                    gt=dataset_gt\n",
    "                    )\n",
    "\n",
    "# Calling the relevant distance function to measure the distance from the ground truth\n",
    "distance_function = ProxyDistanceFunctions.get_function(\"hamming_binary\")\n",
    "error = distance_function(answers, dataset_gt)\n",
    "print(error)\n"
   ]
  },
  {
   "cell_type": "markdown",
   "metadata": {},
   "source": [
    "## GTM\n",
    "Based on the pseudo-code in: Bo Zhao Jiawei Han, \"A Probabilistic Model for Estimating Real-valued Truth from\n",
    "Conflicting Sources\"<br>\n",
    "Link: http://citeseerx.ist.psu.edu/viewdoc/download?doi=10.1.1.301.2071&rep=rep1&type=pdf\n",
    "\n",
    "INPUT: Continuous data <br>\n"
   ]
  },
  {
   "cell_type": "code",
   "execution_count": 127,
   "metadata": {},
   "outputs": [
    {
     "name": "stdout",
     "output_type": "stream",
     "text": [
      "0.055192400426663825\n"
     ]
    }
   ],
   "source": [
    "# Reading synthetic dataset which its proto population distribution is Normal with mean .65 and 0.15 STD\n",
    "dataset = pd.read_csv(\"data/synthetic/cont/CONT_m2000_n2000_GT=N(0,2)_F=N(1,0.5).csv\", header=None).iloc[:20, :20]\n",
    "\n",
    "# Reading the appropriate ground truth dataset\n",
    "dataset_gt = pd.read_csv(\"data/synthetic/cont/CONT_m2000_n2000_GT=N(0,2)_F=N(1,0.5)_GT.csv\", header=None).iloc[:, :20]\n",
    "dataset_gt = np.squeeze(dataset_gt)\n",
    "# Calling IPTD for aggregating the dataset\n",
    "algorithm = TruthDiscoveryAlgorithms.get_algorithm(\"GTM\")\n",
    "\n",
    "answers = algorithm(iterations=10,\n",
    "                    data=dataset\n",
    "                    )\n",
    "\n",
    "# Calling the relevant distance function to measure the distance from the ground truth\n",
    "distance_function = ProxyDistanceFunctions.get_function(\"square_euclidean\")\n",
    "error = distance_function(answers, dataset_gt)\n",
    "print(error)"
   ]
  },
  {
   "cell_type": "markdown",
   "metadata": {},
   "source": [
    "## KDEM\n",
    "Wan, Chen et. al. \"From Truth Discovery to Trustworthy Opinion Discovery:\n",
    "An Uncertainty-Aware Quantitative Modeling Approach\"<br>\n",
    "Link: http://hanj.cs.illinois.edu/pdf/kdd16_mwan.pdf\n",
    "\n",
    "INPUT: Real valued data <br>"
   ]
  },
  {
   "cell_type": "code",
   "execution_count": 128,
   "metadata": {},
   "outputs": [
    {
     "name": "stdout",
     "output_type": "stream",
     "text": [
      "0.75\n"
     ]
    }
   ],
   "source": [
    "\n",
    "# Reading synthetic dataset which its proto population distribution is Normal with mean .65 and 0.15 STD\n",
    "dataset = pd.read_csv(\"data/synthetic/CAT2_k2000_n2000_N(0.65,0.15).csv\", header=None).iloc[:20, :20]\n",
    "\n",
    "# Reading the appropriate ground truth dataset\n",
    "dataset_gt = pd.read_csv(\"data/synthetic/CAT2_k2000_n2000_N(0.65,0.15)_GT.csv\", header=None).iloc[:, :20]\n",
    "\n",
    "data_params ={'df': dataset}\n",
    "params = {'kernel':\"Gaussian\"}\n",
    "# Calling IPTD for aggregating the dataset\n",
    "algorithm = TruthDiscoveryAlgorithms.get_algorithm(\"KDEm_alg\")\n",
    "\n",
    "# Lambda = 0 - max likelihood estimator\n",
    "#  or 4 - simple variants\n",
    "answers = algorithm(data_params=data_params,\n",
    "                    params = params\n",
    "                    )\n",
    "\n",
    "# Calling the relevant distance function to measure the distance from the ground truth\n",
    "distance_function = ProxyDistanceFunctions.get_function(\"hamming_binary\")\n",
    "error = distance_function(answers, dataset_gt)\n",
    "print(error)"
   ]
  },
  {
   "cell_type": "markdown",
   "metadata": {},
   "source": [
    "## Top2\n",
    "Based on the pseudo-code in: Kawase et. al, \"Graph Mining Meets Crowdsourcing: Extracting\n",
    " Experts for Answer Aggregation\"<br>\n",
    "Link: https://www.ijcai.org/proceedings/2019/0177.pdf\n",
    "\n",
    "INPUT: Any distance-based data<br>\n",
    "modes:\n",
    "* Top2 answer aggregation\n",
    "* experts answer aggregation"
   ]
  },
  {
   "cell_type": "code",
   "execution_count": 129,
   "metadata": {},
   "outputs": [
    {
     "name": "stdout",
     "output_type": "stream",
     "text": [
      "0.07964442369092666\n"
     ]
    }
   ],
   "source": [
    "# Reading synthetic dataset which its proto population distribution is Normal with mean .65 and 0.15 STD\n",
    "dataset = pd.read_csv(\"data/synthetic/cont/CONT_m2000_n2000_GT=N(0,2)_F=N(1,0.5).csv\", header=None).iloc[:20, :20]\n",
    "\n",
    "# Reading the appropriate ground truth dataset\n",
    "dataset_gt = pd.read_csv(\"data/synthetic/cont/CONT_m2000_n2000_GT=N(0,2)_F=N(1,0.5)_GT.csv\", header=None).iloc[:, :20]\n",
    "dataset_gt = np.squeeze(dataset_gt)\n",
    "# Calling IPTD for aggregating the dataset\n",
    "algorithm = TruthDiscoveryAlgorithms.get_algorithm(\"Top2\")\n",
    "pairwise_distance = PairwiseDistanceFunctions.get_function(\"square_euclidean\")\n",
    "\n",
    "\n",
    "answers = algorithm(data=dataset,\n",
    "                    gt=dataset_gt,\n",
    "                    mode=\"continuous\",\n",
    "                    pairwise_distance_function = pairwise_distance,\n",
    "                    voting_rule=\"mean\",\n",
    "                    variant= \"experts\",\n",
    "                    params = ''\n",
    "                    )\n",
    "\n",
    "# Calling the relevant distance function to measure the distance from the ground truth\n",
    "distance_function = ProxyDistanceFunctions.get_function(\"square_euclidean\")\n",
    "error = distance_function(answers, dataset_gt)\n",
    "print(error)"
   ]
  },
  {
   "cell_type": "markdown",
   "metadata": {},
   "source": [
    "# Comparison of different algorithms."
   ]
  },
  {
   "cell_type": "markdown",
   "metadata": {},
   "source": [
    "It may be useful to run the same dataset on different algorithms and compare the results.\n",
    "The provided code achieves this by applying various algorithms to the dataset and compiling their performance metrics for straightforward comparison."
   ]
  },
  {
   "cell_type": "code",
   "execution_count": 130,
   "metadata": {},
   "outputs": [],
   "source": [
    "# Function to run an algorithm with given parameters\n",
    "def run_algorithm(algorithm_name, data,**params):\n",
    "    algorithm = TruthDiscoveryAlgorithms.get_algorithm(algorithm_name)    \n",
    "    if algorithm_name == \"GTM\":\n",
    "        answers = algorithm(data=data,\n",
    "                            **params)\n",
    "    else:\n",
    "        pairwise_distance_func = PairwiseDistanceFunctions.get_function(params.pop('pairwise_distance_function'))\n",
    "\n",
    "        answers = algorithm(data=data,\n",
    "                        pairwise_distance_function=pairwise_distance_func,\n",
    "                        **params)\n",
    "    return answers"
   ]
  },
  {
   "cell_type": "markdown",
   "metadata": {},
   "source": [
    "We define the dataset and the configurations for comparison methods. Mind that different algorithms require different sets of parameters."
   ]
  },
  {
   "cell_type": "code",
   "execution_count": 131,
   "metadata": {},
   "outputs": [],
   "source": [
    "# Read dataset and ground truth\n",
    "dataset = pd.read_csv(\"data/synthetic/cont/CONT_m2000_n2000_GT=N(0,2)_F=N(1,0.5).csv\", header=None).iloc[:20, :20]\n",
    "dataset_gt = np.squeeze(pd.read_csv(\"data/synthetic/cont/CONT_m2000_n2000_GT=N(0,2)_F=N(1,0.5)_GT.csv\", header=None).iloc[:, :20])\n",
    "\n",
    "# Define configurations\n",
    "configurations = [\n",
    "    {\"algorithm_name\": \"Top2\", \"data\": dataset, \"gt\": dataset_gt, \"mode\":\"continuous\",\"pairwise_distance_function\": \"square_euclidean\", \"voting_rule\": \"mean\", \"variant\": \"experts\", \"params\": ''},\n",
    "    {\"algorithm_name\": \"GTM\", \"data\": dataset, \"iterations\": 10},\n",
    "    {\"algorithm_name\": \"IPTD\", \"data\": dataset, \"gt\": dataset_gt,\"mode\":\"continuous\", \"pairwise_distance_function\": \"square_euclidean\", \"iterations\": 10, \"voting_rule\": \"mean\", \"iter_weight_method\": \"1\", \"variant\": \"PD\", \"mode\": \"continuous\"}\n",
    "    # Add more configurations here\n",
    "]"
   ]
  },
  {
   "cell_type": "markdown",
   "metadata": {},
   "source": [
    "This code iterates through various configurations to run algorithms and calculate errors, and then stores these results in the DataFrame for analysis and comparison."
   ]
  },
  {
   "cell_type": "code",
   "execution_count": 132,
   "metadata": {},
   "outputs": [
    {
     "name": "stdout",
     "output_type": "stream",
     "text": [
      "  Algorithm  PairwiseDistance     Error\n",
      "0      Top2  square_euclidean  0.079644\n",
      "1       GTM              None  0.055192\n",
      "2      IPTD  square_euclidean  0.051496\n"
     ]
    }
   ],
   "source": [
    "# DataFrame to store results\n",
    "results_df = pd.DataFrame(columns=['Algorithm', 'PairwiseDistance', 'Error'])\n",
    "\n",
    "# Run each configuration\n",
    "for config in configurations:\n",
    "    if 'pairwise_distance_function' in config:\n",
    "        pairwise_distance = config['pairwise_distance_function']\n",
    "    else:\n",
    "        pairwise_distance = \"None\"\n",
    "    answers = run_algorithm(**config)\n",
    "    error = ProxyDistanceFunctions.get_function(\"square_euclidean\")(answers, dataset_gt)\n",
    "    new_row = pd.DataFrame([{\"Algorithm\": config['algorithm_name'], \"PairwiseDistance\": pairwise_distance, \"Error\": error}])\n",
    "    # update results dataframe\n",
    "    results_df = pd.concat([results_df, new_row], ignore_index=True)\n",
    "# Analysis and comparison\n",
    "print(results_df)\n",
    "# Additional analysis and visualization code here"
   ]
  },
  {
   "cell_type": "markdown",
   "metadata": {},
   "source": [
    "Average distanse of the answer vs distance to the truth"
   ]
  },
  {
   "cell_type": "code",
   "execution_count": null,
   "metadata": {},
   "outputs": [],
   "source": []
  },
  {
   "cell_type": "markdown",
   "metadata": {},
   "source": [
    "## Visualization of Algorithm Accuracy Over Subsamples\n",
    "Visualizing data is a powerful tool for understanding algorithm performance. To this end, we are creating a graph that plots the distance from selected answers to the true answer against the average distance of all answers, across various subsamples. This visualization will highlight which algorithms consistently perform closer to the true answer, offering an important indication of the most effective methods over a number of data subsets."
   ]
  },
  {
   "cell_type": "code",
   "execution_count": 133,
   "metadata": {},
   "outputs": [],
   "source": [
    "import pandas as pd\n",
    "import numpy as np\n",
    "\n",
    "# Function to run an algorithm with given parameters\n",
    "def run_algorithm(algorithm_name, data, gt, **params):\n",
    "    algorithm = TruthDiscoveryAlgorithms.get_algorithm(algorithm_name)    \n",
    "    if algorithm_name == \"GTM\":\n",
    "        answers = algorithm(data=data,\n",
    "                            **params)\n",
    "    else:\n",
    "        pairwise_distance_func = PairwiseDistanceFunctions.get_function(params.pop('pairwise_distance_function'))\n",
    "        answers = algorithm(data=data,\n",
    "                        gt = gt,\n",
    "                        pairwise_distance_function=pairwise_distance_func,\n",
    "                        **params)\n",
    "    return answers"
   ]
  },
  {
   "cell_type": "code",
   "execution_count": 134,
   "metadata": {},
   "outputs": [],
   "source": [
    "# Function to calculate average distance\n",
    "def dist_to_avg_answer(data, gt, distance_func):\n",
    "    avg_answ_dist = distance_func(data.mean(axis=0), gt)\n",
    "    return avg_answ_dist \n"
   ]
  },
  {
   "cell_type": "code",
   "execution_count": 135,
   "metadata": {},
   "outputs": [],
   "source": [
    "# Reading the full dataset\n",
    "full_dataset = pd.read_csv(\"data/synthetic/cont/CONT_m2000_n2000_GT=N(0,2)_F=N(1,0.5).csv\", header=None)\n",
    "full_dataset_gt = np.squeeze(pd.read_csv(\"data/synthetic/cont/CONT_m2000_n2000_GT=N(0,2)_F=N(1,0.5)_GT.csv\", header=None))\n",
    "\n",
    "# Define configurations\n",
    "configurations = [\n",
    "    {\"algorithm_name\": \"Top2\", \"mode\": \"continuous\", \"pairwise_distance_function\": \"square_euclidean\", \"voting_rule\": \"mean\", \"variant\": \"experts\",\"params\": ''},\n",
    "    {\"algorithm_name\": \"IPTD\", \"mode\": \"continuous\", \"pairwise_distance_function\": \"square_euclidean\", \"iterations\": 10, \"voting_rule\": \"mean\", \"iter_weight_method\": \"1\", \"variant\": \"PD\"}\n",
    "]\n",
    "\n",
    "# Number of samples\n",
    "num_samples = 10\n",
    "k = 50 # questions\n",
    "n = 15 # workers\n",
    "# DataFrame to store results\n",
    "results_df = pd.DataFrame()"
   ]
  },
  {
   "cell_type": "code",
   "execution_count": 136,
   "metadata": {},
   "outputs": [],
   "source": [
    "# Run samples\n",
    "for _ in range(num_samples):\n",
    "    # Sample the data once for all configurations\n",
    "    # Sample the data once for all configurations\n",
    "    row_indices = np.random.choice(full_dataset.shape[0], size=n, replace=False)\n",
    "    column_indices = np.random.choice(full_dataset.shape[1], size=k, replace=False)\n",
    "    data = full_dataset.iloc[row_indices, :].iloc[:, column_indices]\n",
    "    gt = full_dataset_gt[column_indices]\n",
    "\n",
    "    # Process each configuration on the same data sample\n",
    "    for config in configurations:\n",
    "        answers = run_algorithm(data=data, gt=gt, **config)\n",
    "        # Calculate distances\n",
    "        distance_func = ProxyDistanceFunctions.get_function(config.get('pairwise_distance_function', 'square_euclidean'))\n",
    "        #distances_from_gt = [distance_func(data.iloc[i], gt)for i in range(len(data))]\n",
    "        avg_distance = dist_to_avg_answer(data, gt,distance_func)\n",
    "        \n",
    "        chosen_dist = distance_func(answers,gt)\n",
    "        # Append results to the DataFrame\n",
    "        results_df = pd.concat([results_df, pd.DataFrame({\n",
    "        \"Algorithm\": [config['algorithm_name']],\n",
    "        \"ChosenDistance\": [chosen_dist],\n",
    "        \"AverageDistance\": [avg_distance],\n",
    "    })], ignore_index=True)\n"
   ]
  },
  {
   "cell_type": "markdown",
   "metadata": {},
   "source": [
    "Plotting of the results"
   ]
  },
  {
   "cell_type": "code",
   "execution_count": 137,
   "metadata": {},
   "outputs": [
    {
     "data": {
      "image/png": "[encoded data removed]",
      "text/plain": [
       "<Figure size 640x480 with 1 Axes>"
      ]
     },
     "metadata": {},
     "output_type": "display_data"
    }
   ],
   "source": [
    "import matplotlib.pyplot as plt\n",
    "\n",
    "# Create a color map for the algorithms\n",
    "color_map = {'Top2': 'blue',  'IPTD': 'red'}\n",
    "\n",
    "# Plot each algorithm with its own color\n",
    "for algorithm in results_df['Algorithm'].unique():\n",
    "    subset = results_df[results_df['Algorithm'] == algorithm]\n",
    "    plt.scatter( subset['ChosenDistance'],subset['AverageDistance'], color=color_map[algorithm], label=algorithm)\n",
    "\n",
    "# Set axes limits\n",
    "max_x_value = results_df['ChosenDistance'].max()\n",
    "# Adding a diagonal line from (0,0) to (1,1)\n",
    "plt.plot([0,max_x_value], [0,max_x_value], 'k--')  # 'k--' indicates a black dashed line\n",
    "\n",
    "# Add labels and legend\n",
    "plt.xlabel(\"Distance from algorithm's answer to GT\")\n",
    "plt.ylabel(\"DIstance from average answer to GT\")\n",
    "plt.title('Average Distance vs Output Distance')\n",
    "plt.legend(title='Algorithm')\n",
    "\n",
    "# Show the plot\n",
    "plt.show()\n"
   ]
  },
  {
   "cell_type": "code",
   "execution_count": 138,
   "metadata": {},
   "outputs": [
    {
     "name": "stdout",
     "output_type": "stream",
     "text": [
      "Correlation between Average answer Distance and Chosen answer Distance for Top2: 0.5446209537425631\n",
      "Correlation between Average answer Distance and Chosen answer Distance for IPTD: 0.8793870105228901\n"
     ]
    }
   ],
   "source": [
    "# Calculate correlation for each algorithm\n",
    "for algorithm in results_df['Algorithm'].unique():\n",
    "    subset = results_df[results_df['Algorithm'] == algorithm]\n",
    "    correlation = subset['AverageDistance'].corr(subset['ChosenDistance'])\n",
    "    print(f'Correlation between Average answer Distance and Chosen answer Distance for {algorithm}: {correlation}')\n"
   ]
  },
  {
   "cell_type": "code",
   "execution_count": null,
   "metadata": {},
   "outputs": [],
   "source": []
  },
  {
   "cell_type": "code",
   "execution_count": null,
   "metadata": {},
   "outputs": [],
   "source": []
  },
  {
   "cell_type": "code",
   "execution_count": null,
   "metadata": {},
   "outputs": [],
   "source": []
  },
  {
   "cell_type": "code",
   "execution_count": null,
   "metadata": {},
   "outputs": [],
   "source": []
  },
  {
   "cell_type": "code",
   "execution_count": 139,
   "metadata": {},
   "outputs": [],
   "source": [
    "def calculate_average_dist(data, distance_func):\n",
    "    num_rows = data.shape[0]\n",
    "    distances = np.zeros((num_rows, num_rows))\n",
    "\n",
    "    # Calculate distances\n",
    "    for i in range(num_rows):\n",
    "        for j in range(num_rows):\n",
    "            if i != j:\n",
    "                distances[i, j] = distance_func(data.iloc[i].values, data.iloc[j].values)\n",
    "# Ignoring self-distance\n",
    "    # Calculate average distances\n",
    "    sum_distances = np.nansum(distances, axis=1)\n",
    "    average_distances = sum_distances / (num_rows - 1)\n",
    "\n",
    "    return average_distances\n"
   ]
  },
  {
   "cell_type": "code",
   "execution_count": 140,
   "metadata": {},
   "outputs": [
    {
     "data": {
      "image/png": "[encoded data removed]",
      "text/plain": [
       "<Figure size 600x400 with 1 Axes>"
      ]
     },
     "metadata": {},
     "output_type": "display_data"
    }
   ],
   "source": [
    "import matplotlib.pyplot as plt\n",
    "\n",
    "row_indices = np.random.choice(full_dataset.shape[0], size=n, replace=False)\n",
    "column_indices = np.random.choice(full_dataset.shape[1], size=k, replace=False)\n",
    "data = full_dataset.iloc[row_indices, :].iloc[:, column_indices]\n",
    "gt = full_dataset_gt[column_indices]\n",
    "distance_func = ProxyDistanceFunctions.get_function(config.get('pairwise_distance_function', 'square_euclidean'))\n",
    "average_distances = calculate_average_dist(data,distance_func)\n",
    "distance_to_gt = [distance_func(data.iloc[i], gt)for i in range(len(data))]\n",
    "\n",
    "\n",
    "\n",
    "# Plotting\n",
    "plt.figure(figsize=(6, 4))\n",
    "# Set axes limits\n",
    "max_x_value = average_distances.max()\n",
    "# Adding a diagonal line from (0,0) to (1,1)\n",
    "plt.plot([0,max_x_value], [0,max_x_value], 'k--') \n",
    "plt.scatter(average_distances, distance_to_gt, color='red', alpha=0.8)\n",
    "plt.ylabel('Distance to Ground Truth')\n",
    "plt.xlabel('Average Distance')\n",
    "plt.title('Average Distances vs Distance to Ground Truth')\n",
    "plt.grid(True)\n",
    "plt.show()"
   ]
  }
 ],
 "metadata": {
  "kernelspec": {
   "display_name": "experts",
   "language": "python",
   "name": "python3"
  },
  "language_info": {
   "codemirror_mode": {
    "name": "ipython",
    "version": 3
   },
   "file_extension": ".py",
   "mimetype": "text/x-python",
   "name": "python",
   "nbconvert_exporter": "python",
   "pygments_lexer": "ipython3",
   "version": "3.11.2"
  }
 },
 "nbformat": 4,
 "nbformat_minor": 2
}
